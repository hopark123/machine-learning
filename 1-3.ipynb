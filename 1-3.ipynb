{
 "cells": [
  {
   "cell_type": "markdown",
   "id": "69d52e9c",
   "metadata": {},
   "source": [
    "# 마켓과 머신러닝\n",
    "\n",
    "## 시작하기 전에\n",
    "\n",
    "### 머신러닝이란?\n",
    "전통적인 프로그램: 규칙을 프로그래머가 결정함.\n",
    "\n",
    "머신러닝: 데이터를 기반으로 규칙을 스스로 찾게 함.\n",
    "### 용어\n",
    "도미 vs 빙어\n",
    "\n",
    "종류: class\n",
    "\n",
    "분류: classification 여러개의 class중 하나를 구별하는 문제를 분류(classification)이라고 한다.\n",
    "\n",
    "이진분류: binary classification\n",
    "\n",
    "### 생선의 길이와 무게(데이터)를 '특성'이라고 한다."
   ]
  },
  {
   "cell_type": "markdown",
   "id": "4542e761",
   "metadata": {},
   "source": [
    "도미의 길이와 무게를 리스트로 만든다. (http://bit.ly/bream_list)"
   ]
  },
  {
   "cell_type": "code",
   "execution_count": 28,
   "id": "6e86a477",
   "metadata": {},
   "outputs": [],
   "source": [
    "bream_length = [25.4, 26.3, 26.5, 29.0, 29.0, 29.7, 29.7, 30.0, 30.0, 30.7, 31.0, 31.0, \n",
    "                31.5, 32.0, 32.0, 32.0, 33.0, 33.0, 33.5, 33.5, 34.0, 34.0, 34.5, 35.0, \n",
    "                35.0, 35.0, 35.0, 36.0, 36.0, 37.0, 38.5, 38.5, 39.5, 41.0, 41.0]\n",
    "bream_weight = [242.0, 290.0, 340.0, 363.0, 430.0, 450.0, 500.0, 390.0, 450.0, 500.0, 475.0, 500.0, \n",
    "                500.0, 340.0, 600.0, 600.0, 700.0, 700.0, 610.0, 650.0, 575.0, 685.0, 620.0, 680.0, \n",
    "                700.0, 725.0, 720.0, 714.0, 850.0, 1000.0, 920.0, 955.0, 925.0, 975.0, 950.0]"
   ]
  },
  {
   "cell_type": "markdown",
   "id": "ed2ba69a",
   "metadata": {},
   "source": [
    "빙어의 길이와 무게를 리스트로 만든다. (http://bit.ly/smelt_list)"
   ]
  },
  {
   "cell_type": "code",
   "execution_count": 29,
   "id": "e5021340",
   "metadata": {},
   "outputs": [],
   "source": [
    "smelt_length = [9.8, 10.5, 10.6, 11.0, 11.2, 11.3, 11.8, 11.8, 12.0, 12.2, 12.4, 13.0, 14.3, 15.0]\n",
    "smelt_weight = [6.7, 7.5, 7.0, 9.7, 9.8, 8.7, 10.0, 9.9, 9.8, 12.2, 13.4, 12.2, 19.7, 19.9]"
   ]
  },
  {
   "cell_type": "markdown",
   "id": "fbb50db3",
   "metadata": {},
   "source": [
    "### matplotlib으로 산점도를 그린다."
   ]
  },
  {
   "cell_type": "code",
   "execution_count": 30,
   "id": "9b46c598",
   "metadata": {
    "scrolled": true
   },
   "outputs": [
    {
     "data": {
      "image/png": "[encoded data removed]",
      "text/plain": [
       "<Figure size 432x288 with 1 Axes>"
      ]
     },
     "metadata": {
      "needs_background": "light"
     },
     "output_type": "display_data"
    }
   ],
   "source": [
    "import matplotlib.pyplot as plt\n",
    "\n",
    "plt.scatter(bream_length, bream_weight)\n",
    "plt.scatter(smelt_length, smelt_weight)\n",
    "#scatter함수를 연달아 사용할 경우 같이 중첩되어 그려짐.\n",
    "plt.xlabel('length')\n",
    "plt.ylabel('weight')\n",
    "plt.show()"
   ]
  },
  {
   "cell_type": "markdown",
   "id": "0a36d6b3",
   "metadata": {},
   "source": [
    "이렇게 그래프가 일직선에 가까운 형태로 나타나는 경우를 선형(linear)적이라고 한다."
   ]
  },
  {
   "cell_type": "markdown",
   "id": "a7355389",
   "metadata": {},
   "source": [
    "## 첫번째 머신러닝 프로그램\n",
    "\n",
    "먼저 두 리스트를 합쳐 하나의 데이터를 만든다."
   ]
  },
  {
   "cell_type": "code",
   "execution_count": 31,
   "id": "4ef1abbf",
   "metadata": {},
   "outputs": [],
   "source": [
    "length = bream_length + smelt_length\n",
    "weight = bream_weight + smelt_weight"
   ]
  },
  {
   "cell_type": "markdown",
   "id": "f9a2e1c0",
   "metadata": {},
   "source": [
    "사이킷런(scikit-learn) 패키지를 사용하려면 2차원 리스트 형태로 만들어야 한다."
   ]
  },
  {
   "cell_type": "code",
   "execution_count": 32,
   "id": "b2ac32bb",
   "metadata": {},
   "outputs": [
    {
     "name": "stdout",
     "output_type": "stream",
     "text": [
      "[[25.4, 242.0], [26.3, 290.0], [26.5, 340.0], [29.0, 363.0], [29.0, 430.0], [29.7, 450.0], [29.7, 500.0], [30.0, 390.0], [30.0, 450.0], [30.7, 500.0], [31.0, 475.0], [31.0, 500.0], [31.5, 500.0], [32.0, 340.0], [32.0, 600.0], [32.0, 600.0], [33.0, 700.0], [33.0, 700.0], [33.5, 610.0], [33.5, 650.0], [34.0, 575.0], [34.0, 685.0], [34.5, 620.0], [35.0, 680.0], [35.0, 700.0], [35.0, 725.0], [35.0, 720.0], [36.0, 714.0], [36.0, 850.0], [37.0, 1000.0], [38.5, 920.0], [38.5, 955.0], [39.5, 925.0], [41.0, 975.0], [41.0, 950.0], [9.8, 6.7], [10.5, 7.5], [10.6, 7.0], [11.0, 9.7], [11.2, 9.8], [11.3, 8.7], [11.8, 10.0], [11.8, 9.9], [12.0, 9.8], [12.2, 12.2], [12.4, 13.4], [13.0, 12.2], [14.3, 19.7], [15.0, 19.9]]\n"
     ]
    }
   ],
   "source": [
    "fish_data = [[l, w] for l, w in zip(length, weight)]\n",
    "#zip()함수는 리스트에서 원소를 하나씩 꺼내주는 함수이다.\n",
    "print(fish_data)"
   ]
  },
  {
   "cell_type": "markdown",
   "id": "1fbc0d6f",
   "metadata": {},
   "source": [
    "이제 정답데이터를 만든다.\n",
    "머신러닝에서 찾고자 하는 대상은 1, 그 외는 0으로 둔다.\n",
    "(도미를 1, 빙어를 0으로 표현.)"
   ]
  },
  {
   "cell_type": "code",
   "execution_count": 17,
   "id": "2ea01646",
   "metadata": {
    "scrolled": true
   },
   "outputs": [
    {
     "name": "stdout",
     "output_type": "stream",
     "text": [
      "[1, 1, 1, 1, 1, 1, 1, 1, 1, 1, 1, 1, 1, 1, 1, 1, 1, 1, 1, 1, 1, 1, 1, 1, 1, 1, 1, 1, 1, 1, 1, 1, 1, 1, 1, 0, 0, 0, 0, 0, 0, 0, 0, 0, 0, 0, 0, 0, 0]\n"
     ]
    }
   ],
   "source": [
    "fish_target = [1] * 35 + [0] * 14\n",
    "print(fish_target)"
   ]
  },
  {
   "cell_type": "markdown",
   "id": "b0be46e9",
   "metadata": {},
   "source": [
    "사이킷런 패키지에서 k-최근접 이웃 알고리즘을 구현한 KNeighborsClassifier을 임포트한다."
   ]
  },
  {
   "cell_type": "code",
   "execution_count": 19,
   "id": "3b94828a",
   "metadata": {},
   "outputs": [],
   "source": [
    "from sklearn.neighbors import KNeighborsClassifier\n",
    "\n",
    "kn = KNeighborsClassifier()"
   ]
  },
  {
   "cell_type": "markdown",
   "id": "109031ac",
   "metadata": {},
   "source": [
    "kn객체(알고리즘이 객체화 된 것을 Model이라고 한다.)에 fish_data와 fish_target을 전달하여 학습시킨다. 이것을 Training이라고 한다.\n",
    "사이킷런에서는 fit()메소드를 사용한다."
   ]
  },
  {
   "cell_type": "code",
   "execution_count": 20,
   "id": "1a5e4a8a",
   "metadata": {},
   "outputs": [
    {
     "data": {
      "text/plain": [
       "KNeighborsClassifier()"
      ]
     },
     "execution_count": 20,
     "metadata": {},
     "output_type": "execute_result"
    }
   ],
   "source": [
    "kn.fit(fish_data, fish_target)"
   ]
  },
  {
   "cell_type": "markdown",
   "id": "211bcd2e",
   "metadata": {},
   "source": [
    "score메소드는 0과 1사이의 값을 반환한다."
   ]
  },
  {
   "cell_type": "code",
   "execution_count": 21,
   "id": "93c778a4",
   "metadata": {},
   "outputs": [
    {
     "data": {
      "text/plain": [
       "1.0"
      ]
     },
     "execution_count": 21,
     "metadata": {},
     "output_type": "execute_result"
    }
   ],
   "source": [
    "kn.score(fish_data, fish_target)"
   ]
  },
  {
   "cell_type": "markdown",
   "id": "f3462385",
   "metadata": {},
   "source": [
    "## K-최근접 이웃 알고리즘\n",
    "\n",
    "가장 간단한 머신러닝 알고리즘 중 하나. 어떤 데이터에 대한 답을 구할때 주위(메모리간의 직선거리를 계산)의 다른 데이터로 현재 데이터를 판단한다."
   ]
  },
  {
   "cell_type": "code",
   "execution_count": 22,
   "id": "ea0a42f8",
   "metadata": {},
   "outputs": [
    {
     "data": {
      "text/plain": [
       "array([1])"
      ]
     },
     "execution_count": 22,
     "metadata": {},
     "output_type": "execute_result"
    }
   ],
   "source": [
    "kn.predict([[30, 600]])"
   ]
  },
  {
   "cell_type": "markdown",
   "id": "f5c45b43",
   "metadata": {},
   "source": [
    "predict()메소드는 정답을 예측한다. 전달할때는 fit()메소드와 마찬가지로 이차원배열로 전달한다.\n",
    "\n",
    "### 단점\n",
    "데이터가 아주 많은 경우 메모리가 많이 필요하고 데이터간의 직선거리를 계산하는데도 많은 시간이 필요하다.\n",
    "\n",
    "KNeighborsClassifier 클래스는 _fit_X에 입력한 특성, _y에 결과값을 가지고 있다.\n",
    "무언가가 훈련되는 것이 아니라, 메모리 공간에 데이터를 모두 저장하고 있다가, 새로운 데이터가 등장하면 가까운 데이터와 비교하여 구분한다."
   ]
  },
  {
   "cell_type": "code",
   "execution_count": 23,
   "id": "b3d7bf36",
   "metadata": {},
   "outputs": [
    {
     "name": "stdout",
     "output_type": "stream",
     "text": [
      "[[  25.4  242. ]\n",
      " [  26.3  290. ]\n",
      " [  26.5  340. ]\n",
      " [  29.   363. ]\n",
      " [  29.   430. ]\n",
      " [  29.7  450. ]\n",
      " [  29.7  500. ]\n",
      " [  30.   390. ]\n",
      " [  30.   450. ]\n",
      " [  30.7  500. ]\n",
      " [  31.   475. ]\n",
      " [  31.   500. ]\n",
      " [  31.5  500. ]\n",
      " [  32.   340. ]\n",
      " [  32.   600. ]\n",
      " [  32.   600. ]\n",
      " [  33.   700. ]\n",
      " [  33.   700. ]\n",
      " [  33.5  610. ]\n",
      " [  33.5  650. ]\n",
      " [  34.   575. ]\n",
      " [  34.   685. ]\n",
      " [  34.5  620. ]\n",
      " [  35.   680. ]\n",
      " [  35.   700. ]\n",
      " [  35.   725. ]\n",
      " [  35.   720. ]\n",
      " [  36.   714. ]\n",
      " [  36.   850. ]\n",
      " [  37.  1000. ]\n",
      " [  38.5  920. ]\n",
      " [  38.5  955. ]\n",
      " [  39.5  925. ]\n",
      " [  41.   975. ]\n",
      " [  41.   950. ]\n",
      " [   9.8    6.7]\n",
      " [  10.5    7.5]\n",
      " [  10.6    7. ]\n",
      " [  11.     9.7]\n",
      " [  11.2    9.8]\n",
      " [  11.3    8.7]\n",
      " [  11.8   10. ]\n",
      " [  11.8    9.9]\n",
      " [  12.     9.8]\n",
      " [  12.2   12.2]\n",
      " [  12.4   13.4]\n",
      " [  13.    12.2]\n",
      " [  14.3   19.7]\n",
      " [  15.    19.9]]\n"
     ]
    }
   ],
   "source": [
    "print(kn._fit_X)"
   ]
  },
  {
   "cell_type": "code",
   "execution_count": 24,
   "id": "0cb41073",
   "metadata": {},
   "outputs": [
    {
     "name": "stdout",
     "output_type": "stream",
     "text": [
      "[1 1 1 1 1 1 1 1 1 1 1 1 1 1 1 1 1 1 1 1 1 1 1 1 1 1 1 1 1 1 1 1 1 1 1 0 0\n",
      " 0 0 0 0 0 0 0 0 0 0 0 0]\n"
     ]
    }
   ],
   "source": [
    "print(kn._y)"
   ]
  },
  {
   "cell_type": "markdown",
   "id": "a26cb016",
   "metadata": {},
   "source": [
    "몇개의 가까운 데이터값을 비교할 것인가? 기본값은 5개\n",
    "변경하려면 n_neighbors매개변수의 값을 바꾸면 됨"
   ]
  },
  {
   "cell_type": "code",
   "execution_count": 25,
   "id": "fda0e4af",
   "metadata": {},
   "outputs": [
    {
     "data": {
      "text/plain": [
       "0.7142857142857143"
      ]
     },
     "execution_count": 25,
     "metadata": {},
     "output_type": "execute_result"
    }
   ],
   "source": [
    "kn49 = KNeighborsClassifier(n_neighbors=49)\n",
    "kn49.fit(fish_data, fish_target)\n",
    "kn49.score(fish_data, fish_target)"
   ]
  },
  {
   "cell_type": "markdown",
   "id": "e70eff29",
   "metadata": {},
   "source": [
    "인접한 49개의 데이터를 비교하는데 총 데이터 수가 49개이므로 결과값이 무조건 도미로 나오게 됨."
   ]
  },
  {
   "cell_type": "code",
   "execution_count": 27,
   "id": "d26a5e09",
   "metadata": {},
   "outputs": [
    {
     "name": "stdout",
     "output_type": "stream",
     "text": [
      "0.7142857142857143\n"
     ]
    }
   ],
   "source": [
    "print(35/49)"
   ]
  },
  {
   "cell_type": "markdown",
   "id": "e0226074",
   "metadata": {},
   "source": [
    "## 사용된 패키지\n",
    "\n",
    "### matplotlib\n",
    "#### scatter()\n",
    "산점도를 그리는 맷플롯립 함수. 2개의 매개변수로 x값과 y값을 전달. 파이썬배열 혹은 numpy배열.\n",
    "###### c매개변수: 색상을 지정함. 16진수 rgb값.\n",
    "\n",
    "### scikit-learn\n",
    "#### KNeighborsClassifier()\n",
    "K-최근접 이웃 분류모델을 만드는 사이킷런 클래스.\n",
    "###### n_neighbors 매개변수: 비교할 이웃의 개수를 지정함. 기본값=5.\n",
    "###### p 매개변수: 거리를 재는 방법을 지정. 1=맨해튼 거리, 2=유클리디안 거리. 기본값=2\n",
    "###### n_job 매개변수: 사용할 cpu코어를 지정. -1=모든 cpu코어를 사용한다. 기본값=1\n",
    "###### fit(): 사이킷런 모델을 훈련할 때 사용. 두 매개변수는 훈련에 사용되는 특성과 정답 데이터를 받는다.\n",
    "###### predict(): 사이킷런 모델을 훈련하고 예측할 때 사용. 특성 데이터 하나만 매개변수로 받음.\n",
    "###### score(): 훈련된 사이킷런 모델의 성능을 측정할 때 사용. 두 매개변수는 특성과 정답데이터를 받는다. 정답과 비교하여 올바르게 예측한 비율을 반환한다.\n"
   ]
  }
 ],
 "metadata": {
  "kernelspec": {
   "display_name": "Python 3 (ipykernel)",
   "language": "python",
   "name": "python3"
  },
  "language_info": {
   "codemirror_mode": {
    "name": "ipython",
    "version": 3
   },
   "file_extension": ".py",
   "mimetype": "text/x-python",
   "name": "python",
   "nbconvert_exporter": "python",
   "pygments_lexer": "ipython3",
   "version": "3.8.10"
  }
 },
 "nbformat": 4,
 "nbformat_minor": 5
}
