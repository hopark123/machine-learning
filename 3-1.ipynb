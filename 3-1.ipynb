{
 "cells": [
  {
   "cell_type": "markdown",
   "id": "9eb34900",
   "metadata": {},
   "source": [
    "# K-최근접 이웃 회귀\n",
    "\n",
    "농어의 길이, 두께, 높이를 기반으로 무게를 예측해보자.\n",
    "\n",
    "지도 알고리즘은 크게 분류와 회귀(regression)으로 나뉜다. 분류는 이전 2장에서 다루었다. 말 그대로 샘플을 몇개의 클래스 중 하나로 분류하는 문제이다. 회귀는 클래스 중 하나로, 분류하는 것이 아니라 임의의 어떤 숫자를 예측하는 문제이다.\n",
    "\n",
    "### 여기서 회귀란\n",
    "\n",
    "간단히->두 변수 사이의 상관관계를 분석하는 방법\n",
    "\n",
    "### K-최근접 이웃 회귀란\n",
    "\n",
    "k-최근접 이웃 분류와 마찬가지로 최근접 이웃들을 구한 후, 최근접 이웃들의 타깃 값의 평균을 구한다."
   ]
  },
  {
   "cell_type": "markdown",
   "id": "e725de22",
   "metadata": {},
   "source": [
    "## 데이터 준비\n",
    "\n",
    "농어의 길이만 사용.\n",
    "농어의 길이: 특성\n",
    "농어의 무게: 타깃\n",
    "(http://bit.ly/perch_data)"
   ]
  },
  {
   "cell_type": "code",
   "execution_count": 19,
   "id": "66e815f2",
   "metadata": {},
   "outputs": [],
   "source": [
    "import numpy as np\n",
    "\n",
    "perch_length = np.array([8.4, 13.7, 15.0, 16.2, 17.4, 18.0, 18.7, 19.0, 19.6, 20.0, 21.0,\n",
    "       21.0, 21.0, 21.3, 22.0, 22.0, 22.0, 22.0, 22.0, 22.5, 22.5, 22.7,\n",
    "       23.0, 23.5, 24.0, 24.0, 24.6, 25.0, 25.6, 26.5, 27.3, 27.5, 27.5,\n",
    "       27.5, 28.0, 28.7, 30.0, 32.8, 34.5, 35.0, 36.5, 36.0, 37.0, 37.0,\n",
    "       39.0, 39.0, 39.0, 40.0, 40.0, 40.0, 40.0, 42.0, 43.0, 43.0, 43.5,\n",
    "       44.0])\n",
    "perch_weight = np.array([5.9, 32.0, 40.0, 51.5, 70.0, 100.0, 78.0, 80.0, 85.0, 85.0, 110.0,\n",
    "       115.0, 125.0, 130.0, 120.0, 120.0, 130.0, 135.0, 110.0, 130.0,\n",
    "       150.0, 145.0, 150.0, 170.0, 225.0, 145.0, 188.0, 180.0, 197.0,\n",
    "       218.0, 300.0, 260.0, 265.0, 250.0, 250.0, 300.0, 320.0, 514.0,\n",
    "       556.0, 840.0, 685.0, 700.0, 700.0, 690.0, 900.0, 650.0, 820.0,\n",
    "       850.0, 900.0, 1015.0, 820.0, 1100.0, 1000.0, 1100.0, 1000.0,\n",
    "       1000.0])"
   ]
  },
  {
   "cell_type": "code",
   "execution_count": 20,
   "id": "4ef40382",
   "metadata": {},
   "outputs": [
    {
     "data": {
      "image/png": "[encoded data removed]",
      "text/plain": [
       "<Figure size 432x288 with 1 Axes>"
      ]
     },
     "metadata": {
      "needs_background": "light"
     },
     "output_type": "display_data"
    }
   ],
   "source": [
    "import matplotlib.pyplot as plt\n",
    "\n",
    "plt.scatter(perch_length, perch_weight)\n",
    "plt.xlabel('length')\n",
    "plt.ylabel('weight')\n",
    "plt.show()"
   ]
  },
  {
   "cell_type": "markdown",
   "id": "3127976b",
   "metadata": {},
   "source": [
    "그래프만 보더라도 무게와 길이가 관계가 있다는 것을 알 수가 있다."
   ]
  },
  {
   "cell_type": "markdown",
   "id": "292ac8c2",
   "metadata": {},
   "source": [
    "## 훈련 세트 준비"
   ]
  },
  {
   "cell_type": "code",
   "execution_count": 21,
   "id": "714d9a93",
   "metadata": {},
   "outputs": [],
   "source": [
    "from sklearn.model_selection import train_test_split\n",
    "\n",
    "train_input, test_input, train_target, test_target = train_test_split(perch_length, perch_weight, random_state=42)"
   ]
  },
  {
   "cell_type": "markdown",
   "id": "3b553e72",
   "metadata": {},
   "source": [
    "사이킷런에 사용할 배열들은 2차원 배열이여야 한다. 하지만 perch_length가 1차원 배열이기 때문에 train_input과 test_input 모두 1차원 배열이다.\n",
    "\n",
    "numpy 배열은 크기를 바꿀 수 있는 reshape()메소드를 지원한다."
   ]
  },
  {
   "cell_type": "code",
   "execution_count": 22,
   "id": "64d963a0",
   "metadata": {},
   "outputs": [
    {
     "name": "stdout",
     "output_type": "stream",
     "text": [
      "(4,)\n"
     ]
    }
   ],
   "source": [
    "test_array = np.array([1, 2, 3, 4])\n",
    "print(test_array.shape)"
   ]
  },
  {
   "cell_type": "code",
   "execution_count": 23,
   "id": "3e1e7412",
   "metadata": {},
   "outputs": [
    {
     "name": "stdout",
     "output_type": "stream",
     "text": [
      "(2, 2)\n"
     ]
    }
   ],
   "source": [
    "test_array = test_array.reshape(2, 2)\n",
    "print(test_array.shape)\n",
    "# reshape 메소드는 크기가 바뀐 새로운 배열을 반환할 때 지정한 크기가 원본 배열에 있는 원소 갯수와 다르면 에러가 발생한다."
   ]
  },
  {
   "cell_type": "code",
   "execution_count": 24,
   "id": "92a5c2fc",
   "metadata": {},
   "outputs": [
    {
     "name": "stdout",
     "output_type": "stream",
     "text": [
      "[[1 2]\n",
      " [3 4]]\n"
     ]
    }
   ],
   "source": [
    "print(test_array)"
   ]
  },
  {
   "cell_type": "code",
   "execution_count": 25,
   "id": "71c7af3e",
   "metadata": {},
   "outputs": [
    {
     "name": "stdout",
     "output_type": "stream",
     "text": [
      "[[19.6]\n",
      " [22. ]\n",
      " [18.7]\n",
      " [17.4]\n",
      " [36. ]\n",
      " [25. ]\n",
      " [40. ]\n",
      " [39. ]\n",
      " [43. ]\n",
      " [22. ]\n",
      " [20. ]\n",
      " [22. ]\n",
      " [24. ]\n",
      " [27.5]\n",
      " [43. ]\n",
      " [40. ]\n",
      " [24. ]\n",
      " [21. ]\n",
      " [27.5]\n",
      " [40. ]\n",
      " [32.8]\n",
      " [26.5]\n",
      " [36.5]\n",
      " [13.7]\n",
      " [22.7]\n",
      " [15. ]\n",
      " [37. ]\n",
      " [35. ]\n",
      " [28.7]\n",
      " [23.5]\n",
      " [39. ]\n",
      " [21. ]\n",
      " [23. ]\n",
      " [22. ]\n",
      " [44. ]\n",
      " [22.5]\n",
      " [19. ]\n",
      " [37. ]\n",
      " [22. ]\n",
      " [25.6]\n",
      " [42. ]\n",
      " [34.5]] [[ 8.4]\n",
      " [18. ]\n",
      " [27.5]\n",
      " [21.3]\n",
      " [22.5]\n",
      " [40. ]\n",
      " [30. ]\n",
      " [24.6]\n",
      " [39. ]\n",
      " [21. ]\n",
      " [43.5]\n",
      " [16.2]\n",
      " [28. ]\n",
      " [27.3]]\n"
     ]
    }
   ],
   "source": [
    "# -1은 나머지 원소 갯수로 채우라는 의미이다.\n",
    "train_input = train_input.reshape(-1, 1)\n",
    "test_input = test_input.reshape(-1, 1)\n",
    "print(train_input, test_input)"
   ]
  },
  {
   "cell_type": "markdown",
   "id": "05984f0c",
   "metadata": {},
   "source": [
    "## 결정계수(R^2)"
   ]
  },
  {
   "cell_type": "code",
   "execution_count": 26,
   "id": "7c8727cd",
   "metadata": {},
   "outputs": [
    {
     "data": {
      "text/plain": [
       "KNeighborsRegressor()"
      ]
     },
     "execution_count": 26,
     "metadata": {},
     "output_type": "execute_result"
    }
   ],
   "source": [
    "from sklearn.neighbors import KNeighborsRegressor\n",
    "\n",
    "knr = KNeighborsRegressor()\n",
    "\n",
    "# k-최근접 이웃 회귀 모델을 훈련한다.\n",
    "knr.fit(train_input, train_target)"
   ]
  },
  {
   "cell_type": "code",
   "execution_count": 27,
   "id": "0d7a4f2a",
   "metadata": {},
   "outputs": [
    {
     "name": "stdout",
     "output_type": "stream",
     "text": [
      "0.992809406101064\n"
     ]
    }
   ],
   "source": [
    "print(knr.score(test_input, test_target))"
   ]
  },
  {
   "cell_type": "markdown",
   "id": "19f32ae9",
   "metadata": {},
   "source": [
    "회귀에서 정확한 숫자를 맞힌다는 것은 거의 불가능하다. 예측하는 값과 타깃 모두 임의의 수치이기 때문이다.\n",
    "회귀에선 결정계수(coeffcient of determination)으로 평가한다. 간단히 R^2라고 부른다.\n",
    "\n",
    "R^2 = 1 - (타깃 - 예측)^2의 합/(타깃 - 평균)^2의 합"
   ]
  },
  {
   "cell_type": "code",
   "execution_count": 28,
   "id": "dae1ccb1",
   "metadata": {},
   "outputs": [
    {
     "name": "stdout",
     "output_type": "stream",
     "text": [
      "19.157142857142862\n"
     ]
    }
   ],
   "source": [
    "from sklearn.metrics import mean_absolute_error\n",
    "\n",
    "# 테스트 세트에 대한 예측을 만든다.\n",
    "test_prediction = knr.predict(test_input)\n",
    "\n",
    "# 테스트 세트에 대한 평균 절대값 오차를 계산한다.\n",
    "mae = mean_absolute_error(test_target, test_prediction)\n",
    "print(mae)"
   ]
  },
  {
   "cell_type": "markdown",
   "id": "488f677d",
   "metadata": {},
   "source": [
    "대략 평균 19g정도 오차가 있다는 것을 알 수 있다. 훈련세트와 테스트 세트를 사용하여 평가를 해본다.\n",
    "\n",
    "## 과대 적합과 과소 적합"
   ]
  },
  {
   "cell_type": "code",
   "execution_count": 29,
   "id": "b8d9ee08",
   "metadata": {},
   "outputs": [
    {
     "data": {
      "text/plain": [
       "0.992809406101064"
      ]
     },
     "execution_count": 29,
     "metadata": {},
     "output_type": "execute_result"
    }
   ],
   "source": [
    "knr.score(test_input, test_target)"
   ]
  },
  {
   "cell_type": "code",
   "execution_count": 30,
   "id": "ae440485",
   "metadata": {},
   "outputs": [
    {
     "data": {
      "text/plain": [
       "0.9698823289099254"
      ]
     },
     "execution_count": 30,
     "metadata": {},
     "output_type": "execute_result"
    }
   ],
   "source": [
    "knr.score(train_input, train_target)"
   ]
  },
  {
   "cell_type": "markdown",
   "id": "690d08cc",
   "metadata": {},
   "source": [
    "일반적으로 train_set의 점수가 높아야 한다. 둘의 차이가 크다면 과대 적합(overfiting)이라 한다. 이는 훈련세트에만 잘 맞는 경우라는 뜻이다. 반대의 경우는 과소 적합(underfiting)의 경우로, 즉 모델이 너무 단순하여 훈련 세트에 적절히 훈련되지 않은 경우이다. \n",
    "\n",
    "그렇다면 k-최근접 이웃 회귀 알고리즘에서 모델을 더욱 복잡하게 만드는 방법은 무엇일까. 바로 확인하는 이웃의 갯수를 줄이는 것이다. 이웃의 갯수를 줄이면 훈련세트에 있는 국지적인 패턴에 민감해지고, 이웃의 갯수를 늘리면 데이터 전반에 있는 일반적인 패턴을 따를 것이다."
   ]
  },
  {
   "cell_type": "code",
   "execution_count": 31,
   "id": "40bd9087",
   "metadata": {},
   "outputs": [
    {
     "name": "stdout",
     "output_type": "stream",
     "text": [
      "0.9804899950518966\n"
     ]
    }
   ],
   "source": [
    "knr.n_neighbors = 3\n",
    "\n",
    "knr.fit(train_input, train_target)\n",
    "print(knr.score(train_input, train_target))"
   ]
  },
  {
   "cell_type": "code",
   "execution_count": 32,
   "id": "cc7b8cb1",
   "metadata": {},
   "outputs": [
    {
     "name": "stdout",
     "output_type": "stream",
     "text": [
      "0.9746459963987609\n"
     ]
    }
   ],
   "source": [
    "print(knr.score(test_input, test_target))"
   ]
  },
  {
   "cell_type": "markdown",
   "id": "213ca7ab",
   "metadata": {},
   "source": [
    "이렇게 과소적합 문제를 해결하였다."
   ]
  },
  {
   "cell_type": "markdown",
   "id": "bfbed425",
   "metadata": {},
   "source": [
    "#### 회귀: 임의의 수치를 예측하는 문제.\n",
    "#### k-최근접 이웃 회귀: k-최근접 이웃 알고리즘을 사용하여 회귀 문제를 푼다.\n",
    "#### 결정계수 (R^2) : 대표적인 회귀 문제의 성능측정 도구.\n",
    "#### 과대적합: 모델 훈련세트 성능이 테스트 세트보다 훨씬 높을 때 일어난다. 모델이 훈련세트에 집착하여 거시적인 패턴을 감지하지 못한다.\n",
    "#### 과소적합: 테스트 훈련 세트 성능이 모델 훈련세트보다 동일하거나 높을 때 일어난다. 이는 복잡한 모델을 사용해 훈련세트에 잘 맞는 모델을 만들어야 한다.\n",
    "\n",
    "## 핵심 패키지와 함수\n",
    "\n",
    "#### KNeighborsRegressor: k-최근접 이웃 회귀 모델을 만드는 사이킷 런 클래스이다.\n",
    "#### mean_absolute_error(): 회귀 모델의 평균 절댓값 오차를 계산한다. 첫번째 매개변수는 타깃, 두번째는 예측값을 전달한다. 이 함수는 타깃과 예측을 뺀 값을 제곱한다음 전체 샘플에 대해 평균한 값을 반환한다."
   ]
  }
 ],
 "metadata": {
  "kernelspec": {
   "display_name": "Python 3 (ipykernel)",
   "language": "python",
   "name": "python3"
  },
  "language_info": {
   "codemirror_mode": {
    "name": "ipython",
    "version": 3
   },
   "file_extension": ".py",
   "mimetype": "text/x-python",
   "name": "python",
   "nbconvert_exporter": "python",
   "pygments_lexer": "ipython3",
   "version": "3.8.10"
  }
 },
 "nbformat": 4,
 "nbformat_minor": 5
}
